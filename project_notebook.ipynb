{
 "cells": [
  {
   "cell_type": "markdown",
   "metadata": {},
   "source": [
    "# Thymio initialization"
   ]
  },
  {
   "cell_type": "code",
   "execution_count": 1,
   "metadata": {},
   "outputs": [],
   "source": [
    "import os\n",
    "import sys\n",
    "import time\n",
    "import serial\n",
    "import matplotlib.pyplot as plt\n",
    "import numpy as np\n",
    "from IPython.display import clear_output\n",
    "\n",
    "\n",
    "# Adding the src folder in the current directory as it contains the script\n",
    "# with the Thymio class\n",
    "sys.path.insert(0, os.path.join(os.getcwd(), 'src'))\n",
    "th = None\n",
    "main_loop_timer = None"
   ]
  },
  {
   "cell_type": "markdown",
   "metadata": {},
   "source": [
    "MyThymio class"
   ]
  },
  {
   "cell_type": "code",
   "execution_count": 2,
   "metadata": {},
   "outputs": [],
   "source": [
    "from Thymio import Thymio, Message\n",
    "\n",
    "class MyThymio(Thymio):\n",
    "    def __init__(self, port=\"COM3\", refreshing_rate=0.1):\n",
    "        import serial  # pip3 install pyserial\n",
    "        if port is None:\n",
    "            port = Thymio.serial_default_port()\n",
    "        node_id = 1\n",
    "        Thymio.__init__(self, serial.Serial(port), node_id, refreshing_rate)\n",
    "        self.handshake()\n",
    "        \n",
    "    def set_speed(self, left, right):\n",
    "        if left >= 0:\n",
    "            th.set_var(\"motor.left.target\", left)\n",
    "        else:\n",
    "            th.set_var(\"motor.left.target\", 2**16+left)\n",
    "        if right >= 0:\n",
    "            th.set_var(\"motor.right.target\", right)\n",
    "        else:\n",
    "            th.set_var(\"motor.right.target\", 2**16+right)"
   ]
  },
  {
   "cell_type": "code",
   "execution_count": 3,
   "metadata": {},
   "outputs": [],
   "source": [
    "if th is not None:\n",
    "    th.close()\n",
    "time.sleep(3)\n",
    "th = MyThymio(port=\"COM3\", refreshing_rate=0.1)\n",
    "time.sleep(1)"
   ]
  },
  {
   "cell_type": "markdown",
   "metadata": {},
   "source": [
    "# Map creation"
   ]
  },
  {
   "cell_type": "code",
   "execution_count": null,
   "metadata": {},
   "outputs": [],
   "source": []
  },
  {
   "cell_type": "markdown",
   "metadata": {},
   "source": [
    "# Local avoidance"
   ]
  },
  {
   "cell_type": "code",
   "execution_count": null,
   "metadata": {},
   "outputs": [],
   "source": []
  },
  {
   "cell_type": "markdown",
   "metadata": {},
   "source": [
    "# Global pathing"
   ]
  },
  {
   "cell_type": "code",
   "execution_count": 4,
   "metadata": {},
   "outputs": [],
   "source": [
    "target_pos = (0, 0)\n",
    "current_pos = (0, 0)"
   ]
  },
  {
   "cell_type": "markdown",
   "metadata": {},
   "source": [
    "## Filter"
   ]
  },
  {
   "cell_type": "code",
   "execution_count": 5,
   "metadata": {},
   "outputs": [],
   "source": [
    "def update_pos(current_pos, sensor_data):\n",
    "    new_pos = current_pos\n",
    "    return new_pos"
   ]
  },
  {
   "cell_type": "markdown",
   "metadata": {},
   "source": [
    "## Control"
   ]
  },
  {
   "cell_type": "code",
   "execution_count": 6,
   "metadata": {},
   "outputs": [],
   "source": [
    "def controller(current_pos, target_pos):\n",
    "    speed_left = 0\n",
    "    speed_right = 0\n",
    "    return speed_left, speed_right"
   ]
  },
  {
   "cell_type": "markdown",
   "metadata": {},
   "source": [
    "# Main loop"
   ]
  },
  {
   "cell_type": "code",
   "execution_count": 7,
   "metadata": {},
   "outputs": [],
   "source": [
    "GLOBAL_PATHING = 0\n",
    "LOCAL_AVOIDANCE = 1\n",
    "\n",
    "state = GLOBAL_PATHING\n",
    "\n",
    "def main_loop():\n",
    "    global state, current_pos\n",
    "    \n",
    "    if state == GLOBAL_PATHING:\n",
    "        print(\"Global pathing\")\n",
    "        sensor_data = None\n",
    "        current_pos = update_pos(current_pos, sensor_data)\n",
    "        speed_left, speed_right = controller(current_pos, target_pos)\n",
    "        th.set_speed(speed_left, speed_right)\n",
    "        \n",
    "    elif state == LOCAL_AVOIDANCE:\n",
    "        print(\"Local avoidance\")\n",
    "    "
   ]
  },
  {
   "cell_type": "markdown",
   "metadata": {},
   "source": [
    "# Run the main loop"
   ]
  },
  {
   "cell_type": "code",
   "execution_count": 8,
   "metadata": {
    "scrolled": true
   },
   "outputs": [
    {
     "name": "stdout",
     "output_type": "stream",
     "text": [
      "Global pathing\n",
      "Global pathing\n",
      "Global pathing\n",
      "Global pathing\n"
     ]
    }
   ],
   "source": [
    "from helpers import RepeatedTimer\n",
    "\n",
    "if main_loop_timer is not None:\n",
    "    main_loop_timer.stop()\n",
    "main_loop_timer = RepeatedTimer(0.5, main_loop)"
   ]
  },
  {
   "cell_type": "markdown",
   "metadata": {},
   "source": [
    "## stop the main loop"
   ]
  },
  {
   "cell_type": "code",
   "execution_count": 9,
   "metadata": {},
   "outputs": [],
   "source": [
    "main_loop_timer.stop()"
   ]
  },
  {
   "cell_type": "markdown",
   "metadata": {},
   "source": [
    "# testing code"
   ]
  },
  {
   "cell_type": "code",
   "execution_count": null,
   "metadata": {},
   "outputs": [],
   "source": [
    "th.set_speed(100, 100)"
   ]
  },
  {
   "cell_type": "code",
   "execution_count": null,
   "metadata": {},
   "outputs": [],
   "source": [
    "th.set_speed(0, 0)"
   ]
  },
  {
   "cell_type": "code",
   "execution_count": 10,
   "metadata": {},
   "outputs": [
    {
     "name": "stderr",
     "output_type": "stream",
     "text": [
      "Exception in thread Thread-7:\n",
      "Traceback (most recent call last):\n",
      "  File \"C:\\Users\\dcvbh\\Anaconda3\\lib\\threading.py\", line 926, in _bootstrap_inner\n",
      "    self.run()\n",
      "  File \"C:\\Users\\dcvbh\\Anaconda3\\lib\\threading.py\", line 870, in run\n",
      "    self._target(*self._args, **self._kwargs)\n",
      "  File \"C:\\Users\\dcvbh\\EPFL\\basics of MB\\project\\src\\Thymio.py\", line 340, in do_refresh\n",
      "    self.get_variables()\n",
      "  File \"C:\\Users\\dcvbh\\EPFL\\basics of MB\\project\\src\\Thymio.py\", line 499, in get_variables\n",
      "    self.send(msg)\n",
      "  File \"C:\\Users\\dcvbh\\EPFL\\basics of MB\\project\\src\\Thymio.py\", line 456, in send\n",
      "    self.io.write(msg.serialize())\n",
      "  File \"C:\\Users\\dcvbh\\Anaconda3\\lib\\site-packages\\serial\\serialwin32.py\", line 304, in write\n",
      "    raise portNotOpenError\n",
      "serial.serialutil.SerialException: Attempting to use a port that is not open\n",
      "\n"
     ]
    }
   ],
   "source": []
  },
  {
   "cell_type": "code",
   "execution_count": null,
   "metadata": {},
   "outputs": [],
   "source": []
  }
 ],
 "metadata": {
  "hide_input": false,
  "kernelspec": {
   "display_name": "Python 3",
   "language": "python",
   "name": "python3"
  },
  "language_info": {
   "codemirror_mode": {
    "name": "ipython",
    "version": 3
   },
   "file_extension": ".py",
   "mimetype": "text/x-python",
   "name": "python",
   "nbconvert_exporter": "python",
   "pygments_lexer": "ipython3",
   "version": "3.7.6"
  },
  "toc": {
   "base_numbering": 1,
   "nav_menu": {},
   "number_sections": true,
   "sideBar": true,
   "skip_h1_title": false,
   "title_cell": "Table of Contents",
   "title_sidebar": "Contents",
   "toc_cell": true,
   "toc_position": {},
   "toc_section_display": true,
   "toc_window_display": true
  }
 },
 "nbformat": 4,
 "nbformat_minor": 2
}
