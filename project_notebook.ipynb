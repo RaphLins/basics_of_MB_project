{
 "cells": [
  {
   "cell_type": "code",
   "execution_count": 3,
   "metadata": {},
   "outputs": [],
   "source": [
    "import os\n",
    "import sys\n",
    "import time\n",
    "import serial\n",
    "import matplotlib.pyplot as plt\n",
    "import numpy as np\n",
    "from IPython.display import clear_output\n",
    "\n",
    "\n",
    "# Adding the src folder in the current directory as it contains the script\n",
    "# with the Thymio class\n",
    "sys.path.insert(0, os.path.join(os.getcwd(), 'src'))\n",
    "th = None\n"
   ]
  },
  {
   "cell_type": "code",
   "execution_count": 4,
   "metadata": {},
   "outputs": [],
   "source": [
    "from Thymio import Thymio, Message\n",
    "\n",
    "class MyThymio(Thymio):\n",
    "    \n",
    "    def __init__(self, port=\"COM3\", refreshing_rate=0.1):\n",
    "        import serial  # pip3 install pyserial\n",
    "        if port is None:\n",
    "            port = Thymio.serial_default_port()\n",
    "        node_id = 1\n",
    "        Thymio.__init__(self, serial.Serial(port), node_id, refreshing_rate)\n",
    "        self.handshake()\n",
    "        \n",
    "    def set_speed(self, left, right):\n",
    "        if left >= 0:\n",
    "            th.set_var(\"motor.left.target\", left)\n",
    "        else:\n",
    "            th.set_var(\"motor.left.target\", 2**16+left)\n",
    "        if right >= 0:\n",
    "            th.set_var(\"motor.right.target\", right)\n",
    "        else:\n",
    "            th.set_var(\"motor.right.target\", 2**16+right)"
   ]
  },
  {
   "cell_type": "code",
   "execution_count": 5,
   "metadata": {},
   "outputs": [],
   "source": [
    "if th is not None:\n",
    "    th.close()\n",
    "time.sleep(1)\n",
    "th = MyThymio(port=\"COM3\", refreshing_rate=0.1)\n",
    "time.sleep(1)"
   ]
  },
  {
   "cell_type": "code",
   "execution_count": null,
   "metadata": {},
   "outputs": [],
   "source": [
    "\n"
   ]
  },
  {
   "cell_type": "code",
   "execution_count": 6,
   "metadata": {},
   "outputs": [],
   "source": [
    "th.set_speed(100, 100)"
   ]
  },
  {
   "cell_type": "code",
   "execution_count": 7,
   "metadata": {},
   "outputs": [],
   "source": [
    "th.set_speed(0, 0)"
   ]
  },
  {
   "cell_type": "code",
   "execution_count": null,
   "metadata": {},
   "outputs": [],
   "source": []
  },
  {
   "cell_type": "code",
   "execution_count": null,
   "metadata": {},
   "outputs": [],
   "source": []
  }
 ],
 "metadata": {
  "hide_input": false,
  "kernelspec": {
   "display_name": "Python 3",
   "language": "python",
   "name": "python3"
  },
  "language_info": {
   "codemirror_mode": {
    "name": "ipython",
    "version": 3
   },
   "file_extension": ".py",
   "mimetype": "text/x-python",
   "name": "python",
   "nbconvert_exporter": "python",
   "pygments_lexer": "ipython3",
   "version": "3.7.6"
  },
  "toc": {
   "base_numbering": 1,
   "nav_menu": {},
   "number_sections": true,
   "sideBar": true,
   "skip_h1_title": false,
   "title_cell": "Table of Contents",
   "title_sidebar": "Contents",
   "toc_cell": true,
   "toc_position": {},
   "toc_section_display": true,
   "toc_window_display": true
  }
 },
 "nbformat": 4,
 "nbformat_minor": 2
}
